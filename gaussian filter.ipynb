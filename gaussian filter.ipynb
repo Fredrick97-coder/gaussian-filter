{
 "cells": [
  {
   "cell_type": "code",
   "execution_count": 12,
   "metadata": {},
   "outputs": [],
   "source": [
    "# ImageFilter for using filter() function\n",
    "from PIL import Image, ImageFilter\n",
    "\n",
    "# Opening the image\n",
    "# (R prefixed to string in order to deal with '\\' in paths)\n",
    "image = Image.open(r\"image/fred5.jpg\")\n",
    "\n",
    "# Blurring image by sending the ImageFilter.\n",
    "# GaussianBlur predefined kernel argument\n",
    "image = image.filter(ImageFilter.GaussianBlur)\n",
    "\n",
    "# Displaying the image\n",
    "image.show()\n"
   ]
  },
  {
   "cell_type": "code",
   "execution_count": null,
   "metadata": {},
   "outputs": [],
   "source": []
  }
 ],
 "metadata": {
  "kernelspec": {
   "display_name": "Python 3",
   "language": "python",
   "name": "python3"
  },
  "language_info": {
   "codemirror_mode": {
    "name": "ipython",
    "version": 3
   },
   "file_extension": ".py",
   "mimetype": "text/x-python",
   "name": "python",
   "nbconvert_exporter": "python",
   "pygments_lexer": "ipython3",
   "version": "3.8.5"
  }
 },
 "nbformat": 4,
 "nbformat_minor": 4
}
