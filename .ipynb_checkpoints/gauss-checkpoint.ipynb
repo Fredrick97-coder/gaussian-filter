{
 "cells": [
  {
   "cell_type": "code",
   "execution_count": null,
   "metadata": {},
   "outputs": [],
   "source": [
    "from itertools import product\n",
    "import cv2\n",
    "from cv2 import COLOR_BGR2GRAY, cvtColor, imread, imshow, waitKey\n",
    "from numpy import dot, exp, mgrid, pi, ravel, square, uint8, zeros\n",
    "\n",
    "\n",
    "def gen_gaussian_kernel(k_size, sigma):\n",
    "    center = k_size // 2\n",
    "    x, y = mgrid[0 - center : k_size - center, 0 - center : k_size - center]\n",
    "    g = 1 / (2 * pi * sigma) * exp(-(square(x) + square(y)) / (2 * square(sigma)))\n",
    "    return g\n",
    "\n",
    "\n",
    "def gaussian_filter(image, k_size, sigma):\n",
    "    height, width = image.shape[0], image.shape[1]\n",
    "    # dst image height and width\n",
    "    dst_height = height - k_size + 1\n",
    "    dst_width = width - k_size + 1\n",
    "\n",
    "    # im2col, turn the k_size*k_size pixels into a row and np.vstack all rows\n",
    "    image_array = zeros((dst_height * dst_width, k_size * k_size))\n",
    "    row = 0\n",
    "    for i, j in product(range(dst_height), range(dst_width)):\n",
    "        window = ravel(image[i : i + k_size, j : j + k_size])\n",
    "        image_array[row, :] = window\n",
    "        row += 1\n",
    "\n",
    "    #  turn the kernel into shape(k*k, 1)\n",
    "    gaussian_kernel = gen_gaussian_kernel(k_size, sigma)\n",
    "    filter_array = ravel(gaussian_kernel)\n",
    "\n",
    "    # reshape and get the dst image\n",
    "    dst = dot(image_array, filter_array).reshape(dst_height, dst_width).astype(uint8)\n",
    "\n",
    "    return dst\n",
    "\n",
    "\n",
    "if __name__ == \"__main__\":\n",
    "    # read original image\n",
    "    \n",
    "    img = cv2.imread(r\"image/fred.jpg\")\n",
    "    #turn image in gray scale value\n",
    "    gray = cv2.cvtColor(img, cv2.COLOR_BGR2GRAY)\n",
    "\n",
    "    # get values with two different mask size\n",
    "    gaussian3x3 = gaussian_filter(gray, 3, sigma=1)\n",
    "\n",
    "    # show result images\n",
    "    cv2.imshow(\"gaussian filter with 3x3 mask\", gaussian3x3)\n",
    "   \n",
    "    waitkey()"
   ]
  },
  {
   "cell_type": "code",
   "execution_count": null,
   "metadata": {},
   "outputs": [],
   "source": []
  },
  {
   "cell_type": "code",
   "execution_count": null,
   "metadata": {},
   "outputs": [],
   "source": []
  }
 ],
 "metadata": {
  "kernelspec": {
   "display_name": "Python 3",
   "language": "python",
   "name": "python3"
  },
  "language_info": {
   "codemirror_mode": {
    "name": "ipython",
    "version": 3
   },
   "file_extension": ".py",
   "mimetype": "text/x-python",
   "name": "python",
   "nbconvert_exporter": "python",
   "pygments_lexer": "ipython3",
   "version": "3.8.5"
  }
 },
 "nbformat": 4,
 "nbformat_minor": 4
}
